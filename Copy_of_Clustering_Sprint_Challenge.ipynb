{
  "nbformat": 4,
  "nbformat_minor": 0,
  "metadata": {
    "colab": {
      "name": "Copy of Clustering Sprint Challenge.ipynb",
      "version": "0.3.2",
      "provenance": [],
      "collapsed_sections": [],
      "include_colab_link": true
    },
    "kernelspec": {
      "name": "python3",
      "display_name": "Python 3"
    }
  },
  "cells": [
    {
      "cell_type": "markdown",
      "metadata": {
        "id": "view-in-github",
        "colab_type": "text"
      },
      "source": [
        "[View in Colaboratory](https://colab.research.google.com/github/sulemc/ml-clustering-sprint-challenge/blob/master/Copy_of_Clustering_Sprint_Challenge.ipynb)"
      ]
    },
    {
      "metadata": {
        "id": "aD8Yb0P8D04e",
        "colab_type": "text"
      },
      "cell_type": "markdown",
      "source": [
        "# Clustering Sprint Challenge\n",
        "\n",
        "Objectives:\n",
        "* Describe two clustering algorithms\n",
        "* Create k clusters with k-Means algorithm\n",
        "* Compare/contrast the performance of your two algorithms with two datasets"
      ]
    },
    {
      "metadata": {
        "id": "aq9MJvtTE6lY",
        "colab_type": "text"
      },
      "cell_type": "markdown",
      "source": [
        "### 1. Describe two different clustering algorithms\n",
        "\n",
        "There are many clustering algorithms with profoundly different implementations. Their objective is the same - to identify groups in unlabeled data.\n",
        "\n",
        "Fill out the below python objects."
      ]
    },
    {
      "metadata": {
        "id": "I8nqyUEREiil",
        "colab_type": "code",
        "colab": {}
      },
      "cell_type": "code",
      "source": [
        "# Clustering algorithm 1:\n",
        "\n",
        "algorithm_one_name = \"\"\n",
        "algorithm_one_description = \"\"\n",
        "\n",
        "# Clustering algorithm 2:\n",
        "\n",
        "algorithm_two_name = \"\"\n",
        "algorithm_two_description = \"\""
      ],
      "execution_count": 0,
      "outputs": []
    },
    {
      "metadata": {
        "id": "jSfpHHfJFPc5",
        "colab_type": "text"
      },
      "cell_type": "markdown",
      "source": [
        "### 2. Create k clusters with k-Means algorithm"
      ]
    },
    {
      "metadata": {
        "id": "x3K306_pFUQc",
        "colab_type": "code",
        "colab": {}
      },
      "cell_type": "code",
      "source": [
        "# Import libraries\n",
        "import pandas as pd\n",
        "\n",
        "# Dataset\n",
        "set1 = pd.read_csv('clusteringsprintchallengedata.csv')\n",
        "\n",
        "# Create kmeans object\n",
        "\n",
        "# Fit kmeans object to data\n",
        "\n",
        "# Print location of clusters learned by kmeans object"
      ],
      "execution_count": 0,
      "outputs": []
    },
    {
      "metadata": {
        "id": "nDEdBrtYFjEr",
        "colab_type": "text"
      },
      "cell_type": "markdown",
      "source": [
        "### 3. Compare/contrast the performance of your two algorithms with two datasets"
      ]
    },
    {
      "metadata": {
        "id": "B73O-XcrF9Wd",
        "colab_type": "code",
        "colab": {}
      },
      "cell_type": "code",
      "source": [
        "# Second dataset\n",
        "set2 = pd.read_csv('https://www.dropbox.com/s/zakq7e0r8n1tob9/clustering_set2.csv?raw=1')\n"
      ],
      "execution_count": 0,
      "outputs": []
    },
    {
      "metadata": {
        "id": "0Imze_KR8U4v",
        "colab_type": "code",
        "colab": {}
      },
      "cell_type": "code",
      "source": [
        ""
      ],
      "execution_count": 0,
      "outputs": []
    }
  ]
}